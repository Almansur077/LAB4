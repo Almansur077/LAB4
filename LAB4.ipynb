{
 "cells": [
  {
   "cell_type": "code",
   "execution_count": 4,
   "id": "c578dffb-bac6-403b-b44a-852ca37d7c9e",
   "metadata": {},
   "outputs": [
    {
     "name": "stdin",
     "output_type": "stream",
     "text": [
      " 15\n"
     ]
    },
    {
     "name": "stdout",
     "output_type": "stream",
     "text": [
      "0.2617993877991494\n"
     ]
    }
   ],
   "source": [
    "import math\n",
    "\n",
    "degrees =int(input())\n",
    "radians = degrees * (math.pi / 180)\n",
    "print(radians) \n"
   ]
  },
  {
   "cell_type": "code",
   "execution_count": 6,
   "id": "d721e7eb-5091-4de5-9e9d-e47ca5d94866",
   "metadata": {},
   "outputs": [
    {
     "name": "stdin",
     "output_type": "stream",
     "text": [
      "Height:  10\n",
      "Base, first value:  10\n",
      "Base, second value:  10\n"
     ]
    },
    {
     "name": "stdout",
     "output_type": "stream",
     "text": [
      "area=  100.0\n"
     ]
    }
   ],
   "source": [
    "\n",
    "height = int(input(\"Height: \"))\n",
    "base1 = int(input(\"Base, first value: \"))\n",
    "base2 = int(input(\"Base, second value: \"))\n",
    "\n",
    "area = (base1 + base2) * height / 2\n",
    "\n",
    "\n",
    "print(\"area= \", area)\n"
   ]
  },
  {
   "cell_type": "code",
   "execution_count": 8,
   "id": "f51e5430-f29e-42c7-aacf-fcbcfe122626",
   "metadata": {},
   "outputs": [
    {
     "name": "stdin",
     "output_type": "stream",
     "text": [
      "Input number of sides:  4\n",
      "Input the length of a side:  4\n"
     ]
    },
    {
     "name": "stdout",
     "output_type": "stream",
     "text": [
      "The area of the polygon is: 16.000000000000004\n"
     ]
    }
   ],
   "source": [
    "import math\n",
    "num_sides = int(input(\"Input number of sides: \"))\n",
    "side_length = int(input(\"Input the length of a side: \"))\n",
    "area = (num_sides * side_length**2) / (4 * math.tan(math.pi / num_sides))\n",
    "print(\"The area of the polygon is:\", area)\n"
   ]
  },
  {
   "cell_type": "code",
   "execution_count": 14,
   "id": "c0cc8a23-bd80-4b18-9534-91a2447cbeb7",
   "metadata": {},
   "outputs": [
    {
     "name": "stdin",
     "output_type": "stream",
     "text": [
      "Length of base:  5\n",
      "Height of parallelogram:  6\n"
     ]
    },
    {
     "name": "stdout",
     "output_type": "stream",
     "text": [
      "area= 30\n"
     ]
    }
   ],
   "source": [
    "\n",
    "base = int(input(\"Length of base: \"))\n",
    "height = int(input(\"Height of parallelogram: \"))\n",
    "area = base * height\n",
    "print(\"area=\",area)\n"
   ]
  },
  {
   "cell_type": "code",
   "execution_count": 10,
   "id": "74ddc6d2-e491-429c-a3d3-50a0e6e19184",
   "metadata": {},
   "outputs": [
    {
     "name": "stdout",
     "output_type": "stream",
     "text": [
      "2025-02-13 12:16:30.873929\n"
     ]
    }
   ],
   "source": [
    "import datetime\n",
    "today=datetime.datetime.today()\n",
    "aleke=today-datetime.timedelta(days=5)\n",
    "print(aleke)"
   ]
  },
  {
   "cell_type": "code",
   "execution_count": 18,
   "id": "ef11bea9-d7e5-4865-80a5-87b22f387726",
   "metadata": {},
   "outputs": [
    {
     "name": "stdout",
     "output_type": "stream",
     "text": [
      "yesterday= 2025-02-17 12:24:42.894363\n",
      "today= 2025-02-18 12:24:42.894792\n",
      "next= 2025-02-19 12:24:42.894959\n"
     ]
    }
   ],
   "source": [
    "import datetime\n",
    "yesterday=datetime.datetime.today()-datetime.timedelta(days=1)\n",
    "print(\"yesterday=\",yesterday)\n",
    "today=datetime.datetime.today()\n",
    "print(\"today=\",today)\n",
    "next=datetime.datetime.today()+datetime.timedelta(days=1)\n",
    "print(\"next=\",next)\n"
   ]
  },
  {
   "cell_type": "code",
   "execution_count": 20,
   "id": "4053bc69-5b87-408d-b031-fd861af728b1",
   "metadata": {},
   "outputs": [
    {
     "name": "stdout",
     "output_type": "stream",
     "text": [
      "2025-02-18 12:24:55\n"
     ]
    }
   ],
   "source": [
    "aleke=datetime.datetime.now()\n",
    "aleke1=aleke.replace(microsecond=0)\n",
    "print(aleke1)"
   ]
  },
  {
   "cell_type": "code",
   "execution_count": 22,
   "id": "fdacbd2e-db37-4276-9372-4946370405ef",
   "metadata": {},
   "outputs": [
    {
     "name": "stdout",
     "output_type": "stream",
     "text": [
      "86400.0\n"
     ]
    }
   ],
   "source": [
    "import datetime\n",
    "today=datetime.datetime.today()\n",
    "yesterday=today-datetime.timedelta(days=1)\n",
    "diff=(today-yesterday).total_seconds()\n",
    "print(diff)"
   ]
  },
  {
   "cell_type": "code",
   "execution_count": 24,
   "id": "eb4129d0-9ca5-4cd6-8206-76aa11497176",
   "metadata": {},
   "outputs": [
    {
     "name": "stdin",
     "output_type": "stream",
     "text": [
      " 6\n"
     ]
    },
    {
     "name": "stdout",
     "output_type": "stream",
     "text": [
      "0\n",
      "1\n",
      "4\n",
      "9\n",
      "16\n",
      "25\n"
     ]
    }
   ],
   "source": [
    "def square(n):\n",
    "    for i in range(n):\n",
    "        yield i**2\n",
    "n=int(input())\n",
    "for lol in square(n):\n",
    "    print(lol)"
   ]
  },
  {
   "cell_type": "code",
   "execution_count": 26,
   "id": "120dde66-324d-485d-9125-8a1c95fdef65",
   "metadata": {},
   "outputs": [
    {
     "name": "stdin",
     "output_type": "stream",
     "text": [
      " 7\n"
     ]
    },
    {
     "name": "stdout",
     "output_type": "stream",
     "text": [
      "0\n",
      "2\n",
      "4\n",
      "6\n"
     ]
    }
   ],
   "source": [
    "def even(n):\n",
    "    for i in range(n):\n",
    "        if (i%2==0):\n",
    "            yield i\n",
    "n=int(input())\n",
    "for lol in even(n):\n",
    "    print(lol)"
   ]
  },
  {
   "cell_type": "code",
   "execution_count": 30,
   "id": "815e69ee-2dcf-4942-b64d-060b7d13e219",
   "metadata": {},
   "outputs": [
    {
     "name": "stdin",
     "output_type": "stream",
     "text": [
      " 100\n"
     ]
    },
    {
     "name": "stdout",
     "output_type": "stream",
     "text": [
      "0\n",
      "12\n",
      "24\n",
      "36\n",
      "48\n",
      "60\n",
      "72\n",
      "84\n",
      "96\n"
     ]
    }
   ],
   "source": [
    "def num(n):\n",
    "    for i in range(n):\n",
    "        if (i%3==0 and i%4==0):\n",
    "            yield i\n",
    "n=int(input())\n",
    "for lol in num(n):\n",
    "    print(lol)\n"
   ]
  },
  {
   "cell_type": "code",
   "execution_count": 32,
   "id": "efb01ce9-e1f6-4dab-9149-fb10ead16a3c",
   "metadata": {},
   "outputs": [
    {
     "name": "stdin",
     "output_type": "stream",
     "text": [
      " 1\n",
      " 10\n"
     ]
    },
    {
     "name": "stdout",
     "output_type": "stream",
     "text": [
      "1\n",
      "4\n",
      "9\n",
      "16\n",
      "25\n",
      "36\n",
      "49\n",
      "64\n",
      "81\n",
      "100\n"
     ]
    }
   ],
   "source": [
    "def num(a,b):\n",
    "    for i in range(a,b+1):\n",
    "            yield i**2\n",
    "a=int(input())\n",
    "b=int(input())\n",
    "for lol in num(a,b):\n",
    "    print(lol)\n"
   ]
  },
  {
   "cell_type": "code",
   "execution_count": 34,
   "id": "c899129d-164a-4d60-9d65-f9e7fec8b2a2",
   "metadata": {},
   "outputs": [
    {
     "name": "stdin",
     "output_type": "stream",
     "text": [
      " 10\n"
     ]
    },
    {
     "name": "stdout",
     "output_type": "stream",
     "text": [
      "10\n",
      "9\n",
      "8\n",
      "7\n",
      "6\n",
      "5\n",
      "4\n",
      "3\n",
      "2\n",
      "1\n",
      "0\n"
     ]
    }
   ],
   "source": [
    "def num(a):\n",
    "    for i in range(a,-1,-1):\n",
    "            yield i\n",
    "a=int(input())\n",
    "for lol in num(a):\n",
    "    print(lol)\n"
   ]
  },
  {
   "cell_type": "code",
   "execution_count": null,
   "id": "19aac858-4436-4618-8548-e5284ff119cb",
   "metadata": {},
   "outputs": [],
   "source": []
  }
 ],
 "metadata": {
  "kernelspec": {
   "display_name": "Python [conda env:base] *",
   "language": "python",
   "name": "conda-base-py"
  },
  "language_info": {
   "codemirror_mode": {
    "name": "ipython",
    "version": 3
   },
   "file_extension": ".py",
   "mimetype": "text/x-python",
   "name": "python",
   "nbconvert_exporter": "python",
   "pygments_lexer": "ipython3",
   "version": "3.12.7"
  }
 },
 "nbformat": 4,
 "nbformat_minor": 5
}
